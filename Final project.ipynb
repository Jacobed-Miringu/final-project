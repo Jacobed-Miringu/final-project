{
 "cells": [
  {
   "cell_type": "markdown",
   "metadata": {
    "collapsed": true
   },
   "source": [
    "# Data Science Tools"
   ]
  },
  {
   "cell_type": "markdown",
   "metadata": {},
   "source": [
    "**Data science tools are software applications, programming libraries, and frameworks that help data scientists perform various tasks related to data analysis, machine learning, and predictive modeling. These tools enable data scientists to manipulate and analyze data, build models, and generate visualizations to extract insights and knowledge from data.**"
   ]
  },
  {
   "cell_type": "markdown",
   "metadata": {},
   "source": [
    "**some popular data science tools are:**\n",
    "\n",
    "Python: Python is a general-purpose programming language widely used in data science due to its rich set of libraries and tools for data analysis, machine learning, and data visualization.\n",
    "\n",
    "R: R is a programming language and environment for statistical computing and graphics, widely used in data science for its extensive collection of packages for data manipulation, modeling, and visualization.\n",
    "\n",
    "SQL: SQL (Structured Query Language) is a domain-specific language used for managing and manipulating data in relational databases, essential for data analysis and business intelligence."
   ]
  },
  {
   "cell_type": "markdown",
   "metadata": {},
   "source": [
    "**Here are some popular data science libraries in Python:**\n",
    "\n",
    "NumPy: NumPy is a library for working with large multi-dimensional arrays and matrices. It provides functions for numerical operations on arrays, including linear algebra, Fourier transform, and random number generation.\n",
    "\n",
    "Pandas: Pandas is a library for data manipulation and analysis. It provides data structures for efficiently handling large datasets and a variety of functions for data cleaning, wrangling, and transformation.\n",
    "\n",
    "Matplotlib: Matplotlib is a library for creating static, animated, and interactive visualizations in Python. It provides functions for creating a wide range of plots, charts, and graphs.\n",
    "\n",
    "Seaborn: Seaborn is a library for data visualization that provides a higher-level interface for creating statistical graphics in Python. It is built on top of Matplotlib and provides functions for creating more complex visualizations.\n",
    "\n",
    "Scikit-learn: Scikit-learn is a library for machine learning in Python. It provides tools for implementing a wide range of supervised and unsupervised learning algorithms, including classification, regression, clustering, and dimensionality reduction.\n",
    "\n",
    "TensorFlow: TensorFlow is a library for building and training deep learning models in Python. It provides a flexible platform for creating a wide range of neural network architectures and includes tools for training, evaluation, and deployment.\n",
    "\n",
    "Keras: Keras is a high-level neural networks API, written in Python and capable of running on top of TensorFlow, Theano, or CNTK. It provides a simple interface for building and training deep learning models.\n",
    "\n",
    "PyTorch: PyTorch is a library for building and training deep learning models in Python. It provides a dynamic computational graph framework for creating neural networks and includes tools for training, evaluation, and deployment.\n",
    "\n",
    "NLTK: NLTK is a library for natural language processing in Python. It provides functions for text processing, tokenization, stemming, and tagging, among other things.\n"
   ]
  },
  {
   "cell_type": "markdown",
   "metadata": {},
   "source": [
    "| Tool            | Purpose                                 | Language   |\n",
    "|----------------|-----------------------------------------|------------|\n",
    "| Python         | General-purpose programming language     | Python     |\n",
    "| R              | Statistical computing language           | R          |\n",
    "| SQL            | Database querying and manipulation       | SQL        |\n",
    "| Tableau        | Data visualization and business analytics| N/A        |\n",
    "| Apache Hadoop  | Distributed storage and processing      | Java       |\n",
    "| Apache Spark   | Distributed computing framework          | Java, Scala|\n",
    "| Jupyter Notebook | Interactive computing environment      | Python     |\n",
    "| TensorFlow     | Deep learning library                    | Python     |\n",
    "| PyTorch        | Deep learning library                    | Python     |\n",
    "| Scikit-learn   | Machine learning library                 | Python     |\n",
    "| NLTK           | Natural language processing library      | Python     |\n",
    "| Statsmodels    | Statistical modeling library             | Python     |\n",
    "| Pandas         | Data manipulation and analysis library   | Python     |\n",
    "| NumPy          | Numerical computing library              | Python     |\n",
    "| Matplotlib     | Data visualization library               | Python     |\n",
    "| Seaborn        | Statistical data visualization library   | Python     |\n"
   ]
  },
  {
   "cell_type": "markdown",
   "metadata": {},
   "source": [
    "**Multiplication and Addition"
   ]
  },
  {
   "cell_type": "code",
   "execution_count": 1,
   "metadata": {},
   "outputs": [
    {
     "name": "stdout",
     "output_type": "stream",
     "text": [
      "Using BODMAS, a + b * c =  14\n",
      "Using BODMAS, (a + b) * c =  20\n"
     ]
    }
   ],
   "source": [
    "# Define variables\n",
    "a = 2\n",
    "b = 3\n",
    "c = 4\n",
    "\n",
    "# Perform calculation using BODMAS\n",
    "d = a + b * c\n",
    "e = (a + b) * c\n",
    "\n",
    "# Print results\n",
    "print(\"Using BODMAS, a + b * c = \", d)\n",
    "print(\"Using BODMAS, (a + b) * c = \", e)\n"
   ]
  },
  {
   "cell_type": "code",
   "execution_count": 2,
   "metadata": {},
   "outputs": [
    {
     "name": "stdout",
     "output_type": "stream",
     "text": [
      "120 minutes is equal to 2.0 hours.\n"
     ]
    }
   ],
   "source": [
    "# Define the number of minutes\n",
    "minutes = 120\n",
    "\n",
    "# Convert minutes to hours\n",
    "hours = minutes / 60\n",
    "\n",
    "# Display the result\n",
    "print(f\"{minutes} minutes is equal to {hours} hours.\")\n"
   ]
  },
  {
   "cell_type": "markdown",
   "metadata": {},
   "source": [
    "**Objectives**\n",
    "-Learn the fundamentals of data science\n",
    "-Develop skills in data analysis and visualization\n",
    "-Build predictive models using machine learning algorithms\n",
    "-Understand how to work with large datasets and distributed computing frameworks\n",
    "-Gain experience with various data science tools and technologies\n",
    "-Apply data science techniques to real-world problems and projects\n",
    "-Communicate findings and insights effectively to stakeholders\n",
    "-Continuously learn and stay up-to-date with the latest trends and advancements in data science\n",
    "-Collaborate with other data professionals to solve complex data problems and drive business value."
   ]
  },
  {
   "cell_type": "markdown",
   "metadata": {},
   "source": [
    "## Author\n",
    "**Jacobed Miring'U**"
   ]
  },
  {
   "cell_type": "code",
   "execution_count": null,
   "metadata": {},
   "outputs": [],
   "source": []
  }
 ],
 "metadata": {
  "kernelspec": {
   "display_name": "Python 3.10",
   "language": "python",
   "name": "python3"
  },
  "language_info": {
   "codemirror_mode": {
    "name": "ipython",
    "version": 3
   },
   "file_extension": ".py",
   "mimetype": "text/x-python",
   "name": "python",
   "nbconvert_exporter": "python",
   "pygments_lexer": "ipython3",
   "version": "3.10.9"
  }
 },
 "nbformat": 4,
 "nbformat_minor": 1
}
